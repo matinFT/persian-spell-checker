{
 "cells": [
  {
   "cell_type": "code",
   "execution_count": 1,
   "id": "9aa73d25",
   "metadata": {},
   "outputs": [],
   "source": [
    "from gensim.models import Word2Vec, FastText\n",
    "import parsivar\n",
    "import json\n",
    "import pickle\n",
    "import itertools\n",
    "import functools\n",
    "import seaborn as sns\n",
    "import random\n",
    "import numpy as np\n",
    "import pandas as pd\n",
    "import editdistance\n",
    "from polyleven import levenshtein"
   ]
  },
  {
   "cell_type": "code",
   "execution_count": 2,
   "id": "76f0bdde",
   "metadata": {},
   "outputs": [],
   "source": [
    "normalizer = parsivar.Normalizer()\n",
    "tokenizer = parsivar.Tokenizer()"
   ]
  },
  {
   "cell_type": "markdown",
   "id": "0042d41b",
   "metadata": {},
   "source": [
    "# load data"
   ]
  },
  {
   "cell_type": "code",
   "execution_count": 2,
   "id": "73f57962",
   "metadata": {},
   "outputs": [
    {
     "name": "stdout",
     "output_type": "stream",
     "text": [
      "237915404 characters\n",
      "2106953 lines\n"
     ]
    }
   ],
   "source": [
    "f = open(\"test.txt\", \"r\", encoding='utf-8')\n",
    "number_of_chars = len(f.read())\n",
    "print(f'{number_of_chars} characters')\n",
    "f.close()\n",
    "f = open(\"test.txt\", \"r\", encoding='utf-8')\n",
    "number_of_lines = len(f.readlines())\n",
    "print(f'{number_of_lines} lines')\n",
    "f.close()"
   ]
  },
  {
   "cell_type": "code",
   "execution_count": null,
   "id": "9cc5a228",
   "metadata": {},
   "outputs": [],
   "source": [
    "def get_sentences():\n",
    "    sentences = []\n",
    "    with open(\"test.txt\", \"r\", encoding='utf-8') as t:\n",
    "        while True:\n",
    "            line = t.readline()\n",
    "            if line == \"\":\n",
    "                break\n",
    "            sentences.append(tokenizer.tokenize_words(line))\n",
    "    return sentences"
   ]
  },
  {
   "cell_type": "code",
   "execution_count": 4,
   "id": "fd69fc79",
   "metadata": {},
   "outputs": [
    {
     "name": "stdout",
     "output_type": "stream",
     "text": [
      "Wall time: 20.7 s\n"
     ]
    }
   ],
   "source": [
    "%%time\n",
    "sentences = get_sentences()\n",
    "# print(len(sentences))\n",
    "# 4GB of RAM"
   ]
  },
  {
   "cell_type": "markdown",
   "id": "1ca0ebcc",
   "metadata": {},
   "source": [
    "# fastText model"
   ]
  },
  {
   "cell_type": "code",
   "execution_count": 2,
   "id": "c64b2718",
   "metadata": {},
   "outputs": [],
   "source": [
    "FastText_model = FastText.load(\"FastTextModel\")\n",
    "# 3.5GB RAM"
   ]
  },
  {
   "cell_type": "code",
   "execution_count": null,
   "id": "d85c1f2f",
   "metadata": {},
   "outputs": [],
   "source": [
    "%%time\n",
    "FastText_model = FastText(vector_size=300, window=5, min_count=1, sentences=sentences, epochs=5)"
   ]
  },
  {
   "cell_type": "code",
   "execution_count": null,
   "id": "57d8e732",
   "metadata": {},
   "outputs": [],
   "source": [
    "FastText_model.wv.most_similar(FastText_model.wv['شاه'])"
   ]
  },
  {
   "cell_type": "code",
   "execution_count": null,
   "id": "54df3681",
   "metadata": {},
   "outputs": [],
   "source": [
    "FastText_model.save(\"FastTextModel\")"
   ]
  },
  {
   "cell_type": "markdown",
   "id": "d057b0bf",
   "metadata": {},
   "source": [
    "# Word2Vec model"
   ]
  },
  {
   "cell_type": "code",
   "execution_count": 3,
   "id": "0cad8b75",
   "metadata": {},
   "outputs": [],
   "source": [
    "word2vec_model = Word2Vec.load(\"Word2VecModel\")\n",
    "# 1GB RAM"
   ]
  },
  {
   "cell_type": "code",
   "execution_count": null,
   "id": "17d23044",
   "metadata": {},
   "outputs": [],
   "source": [
    "%%time\n",
    "word2vec_model = Word2Vec(vector_size=300, window=5, min_count=1, sentences=sentences, epochs=5)"
   ]
  },
  {
   "cell_type": "code",
   "execution_count": 41,
   "id": "90c6d7f9",
   "metadata": {},
   "outputs": [
    {
     "data": {
      "text/plain": [
       "[('مرد', 1.0),\n",
       " ('زن', 0.6828464865684509),\n",
       " ('شوهر', 0.6612272262573242),\n",
       " ('مردی', 0.6603354811668396),\n",
       " ('دختر', 0.6036628484725952),\n",
       " ('دختری', 0.5984135270118713),\n",
       " ('میانسال', 0.5959803462028503),\n",
       " ('شوهری', 0.5932475328445435),\n",
       " ('پیرزن', 0.5812994837760925),\n",
       " ('پیرمرد', 0.5786240100860596)]"
      ]
     },
     "execution_count": 41,
     "metadata": {},
     "output_type": "execute_result"
    }
   ],
   "source": [
    "word2vec_model.wv.most_similar(word2vec_model.wv['مرد'], topn=10)"
   ]
  },
  {
   "cell_type": "code",
   "execution_count": 34,
   "id": "96bcf2b2",
   "metadata": {},
   "outputs": [
    {
     "data": {
      "text/plain": [
       "0.524875283241272"
      ]
     },
     "execution_count": 34,
     "metadata": {},
     "output_type": "execute_result"
    }
   ],
   "source": [
    "word2vec_model.wv.distance(\"شاه\", \"ملکه\")"
   ]
  },
  {
   "cell_type": "code",
   "execution_count": null,
   "id": "c89e2b1a",
   "metadata": {},
   "outputs": [],
   "source": [
    "word2vec_model.save(\"Word2VecModel\")"
   ]
  },
  {
   "cell_type": "markdown",
   "id": "24db3bb8",
   "metadata": {},
   "source": [
    "# load Ngram Model"
   ]
  },
  {
   "cell_type": "code",
   "execution_count": 4,
   "id": "9259f363",
   "metadata": {},
   "outputs": [],
   "source": [
    "def words_to_tuple(words, model):\n",
    "    return tuple([model.wv.key_to_index[words[i]] for i in range(len(words))])\n",
    "\n",
    "# seems some of the words in the text file is not present in model key_to_index\n",
    "def build_ngrams(n):\n",
    "    ngram_counts = {}\n",
    "    with open(\"test.txt\", \"r\", encoding='utf-8') as t:\n",
    "        while True:\n",
    "            line = t.readline()\n",
    "            if line == \"\":\n",
    "                break\n",
    "            words = tokenizer.tokenize_words(line)\n",
    "            for i in range(max(len(words)-n+1, 0)):\n",
    "                try:\n",
    "#                     pre_words_indices = tuple([word2vec_model.wv.key_to_index[words[i+j]] for j in range(n)])\n",
    "                    pre_words_indices = words_to_tuple(words[i:i+n], word2vec_model)\n",
    "                    if pre_words_indices in ngram_counts:\n",
    "                        ngram_counts[pre_words_indices] += 1\n",
    "                    else:\n",
    "                        ngram_counts[pre_words_indices] = 1\n",
    "                except:\n",
    "                    pass\n",
    "    return ngram_counts"
   ]
  },
  {
   "cell_type": "code",
   "execution_count": 5,
   "id": "31fbf4ce",
   "metadata": {},
   "outputs": [
    {
     "name": "stdout",
     "output_type": "stream",
     "text": [
      "words counts:  42671360\n",
      "biword counts:  34459834\n",
      "threeword counts:  19255364\n",
      "Wall time: 4min 2s\n"
     ]
    }
   ],
   "source": [
    "%%time\n",
    "word_counts = build_ngrams(1)\n",
    "word_counts[\"all\"] = sum(word_counts.values())\n",
    "print(\"words counts: \", word_counts[\"all\"])\n",
    "# 100MB of RAM\n",
    "biword_counts = build_ngrams(2)\n",
    "biword_counts[\"all\"] = sum(biword_counts.values())\n",
    "print(\"biword counts: \", biword_counts[\"all\"])\n",
    "\n",
    "# 700MB of RAM\n",
    "threeword_counts = build_ngrams(3)\n",
    "threeword_counts[\"all\"] = sum(threeword_counts.values())\n",
    "print(\"threeword counts: \", threeword_counts[\"all\"])\n",
    "# 1.6GB of RAM\n",
    "# fourword_counts = build_ngrams(4)\n",
    "# fourword_counts[\"all\"] = sum(fourword_counts.values())\n",
    "# 3.5GB of RAM"
   ]
  },
  {
   "cell_type": "code",
   "execution_count": 187,
   "id": "d5939703",
   "metadata": {},
   "outputs": [],
   "source": [
    "with open('word counts.json', 'wb') as f:\n",
    "    pickle.dump(word_counts, f)\n",
    "with open('bi-grams.json', 'wb') as f:\n",
    "    pickle.dump(biword_counts, f)\n",
    "with open('three-grams.json', 'wb') as f:\n",
    "    pickle.dump(threeword_counts, f)\n",
    "with open('four-grams.json', 'wb') as f:\n",
    "    pickle.dump(fourword_counts, f)"
   ]
  },
  {
   "cell_type": "code",
   "execution_count": 18,
   "id": "24441959",
   "metadata": {},
   "outputs": [
    {
     "name": "stdout",
     "output_type": "stream",
     "text": [
      "words:       347680\n",
      "bi-grams:    6764724\n",
      "three-grams: 20208193\n",
      "four-grams:  29157652\n"
     ]
    }
   ],
   "source": [
    "print(f'words:       {len(word_counts)}')\n",
    "print(f'bi-grams:    {len(biword_counts)}')\n",
    "print(f'three-grams: {len(threeword_counts)}')\n",
    "print(f'four-grams:  {len(fourword_counts)}')"
   ]
  },
  {
   "cell_type": "code",
   "execution_count": 5,
   "id": "42153094",
   "metadata": {},
   "outputs": [],
   "source": [
    "with open('word counts.json', 'rb') as f:\n",
    "    word_counts = pickle.load(f)\n",
    "    f.close()\n",
    "with open('bi-grams.json', 'rb') as f:\n",
    "    biword_counts = pickle.load(f)\n",
    "    f.close()\n",
    "with open('three-grams.json', 'rb') as f:\n",
    "    threeword_counts = pickle.load(f)\n",
    "    f.close()\n",
    "# with open('four-grams.json', 'rb') as f:\n",
    "#     fourword_counts = pickle.load(f)\n",
    "#     f.close()"
   ]
  },
  {
   "cell_type": "markdown",
   "id": "196a535d",
   "metadata": {},
   "source": [
    "# define spell checker"
   ]
  },
  {
   "cell_type": "code",
   "execution_count": 6,
   "id": "34170e92",
   "metadata": {},
   "outputs": [],
   "source": [
    "character_neighbors = {\n",
    "    \"ض\" : [\"ص\", \"ظ\", \"ز\", \"ذ\"],\n",
    "    \"ص\" : [\"ض\", \"ث\"],\n",
    "    \"ث\" : [\"ص\", \"ق\"],\n",
    "    \"ق\" : [\"ف\", \"ث\", \"غ\"],\n",
    "    \"ف\" : [\"ق\", \"غ\"],\n",
    "    \"غ\" : [\"ف\", \"ه\", \"ق\"],\n",
    "    \"ع\" : [\"غ\", \"ه\"],\n",
    "    \"ه\" : [\"ع\", \"خ\", \"ح\"],\n",
    "    \"خ\" : [\"ه\", \"ح\"],\n",
    "    \"ح\" : [\"خ\", \"ج\", \"ه\"],\n",
    "    \"ج\" : [\"ح\", \"چ\"],\n",
    "    \"چ\" : [\"ج\", \"پ\"],\n",
    "    \"پ\" : [\"چ\", \"ب\"],\n",
    "    \"ش\" : [\"س\"],\n",
    "    \"س\" : [\"ش\", \"ی\"],\n",
    "    \"ی\" : [\"س\", \"ب\"],\n",
    "    \"ب\" : [\"ی\", \"ل\"],\n",
    "    \"ل\" : [\"ب\", \"ا\", \"آ\"],\n",
    "    \"ا\" : [\"ل\", \"ت\"],\n",
    "    \"آ\" : [\"ل\", \"ت\"],\n",
    "    \"ت\" : [\"ا\", \"ن\", \"ط\", \"آ\"],\n",
    "    \"ن\" : [\"ت\", \"م\"],\n",
    "    \"م\" : [\"ن\", \"ک\"],\n",
    "    \"ک\" : [\"م\", \"گ\"],\n",
    "    \"گ\" : [\"ک\"],\n",
    "    \"ظ\" : [\"ط\", \"ض\", \"ز\", \"ذ\"],\n",
    "    \"ط\" : [\"ظ\", \"ز\", \"ت\"],\n",
    "    \"ز\" : [\"ط\", \"ض\", \"ر\", \"ذ\"],\n",
    "    \"ژ\" : [\"ط\", \"ر\"],\n",
    "    \"ر\" : [\"ز\", \"ذ\"],\n",
    "    \"ذ\" : [\"ر\", \"ض\", \"د\", \"ذ\"],\n",
    "    \"د\" : [\"ذ\", \"ی\"],\n",
    "    \"و\" : [\"د\"],\n",
    "}"
   ]
  },
  {
   "cell_type": "code",
   "execution_count": 7,
   "id": "21ee9906",
   "metadata": {},
   "outputs": [],
   "source": [
    "replaceble_characters = list(character_neighbors.keys())"
   ]
  },
  {
   "cell_type": "code",
   "execution_count": 8,
   "id": "cbc8dfa4",
   "metadata": {},
   "outputs": [],
   "source": [
    "def edit_distance(word, proposed_word, m, n, distance=0, max_distance=2, changes=[]):\n",
    "    if m == 0:\n",
    "        return n\n",
    "    if n == 0:\n",
    "        return m\n",
    "    if word[m-1] == proposed_word[n-1]:\n",
    "        return edit_distance(word, proposed_word, m-1, n-1, distance, max_distance)\n",
    "    else:\n",
    "        if distance == max_distance:\n",
    "            return max_distance+1\n",
    "        return 1+(min(edit_distance(word, proposed_word, m,   n-1, distance+1, max_distance), \n",
    "                      edit_distance(word, proposed_word, m-1, n,   distance+1, max_distance),\n",
    "                      edit_distance(word, proposed_word, m-1, n-1, distance+1, max_distance)))"
   ]
  },
  {
   "cell_type": "code",
   "execution_count": 34,
   "id": "25465e6c",
   "metadata": {},
   "outputs": [],
   "source": [
    "a = \"qewsdfavvasd\"\n",
    "b = \"asvdawqdqweqf\"\n"
   ]
  },
  {
   "cell_type": "code",
   "execution_count": 35,
   "id": "88708bd4",
   "metadata": {},
   "outputs": [
    {
     "name": "stdout",
     "output_type": "stream",
     "text": [
      "Wall time: 127 ms\n"
     ]
    }
   ],
   "source": [
    "%%time\n",
    "for i in range(100000):\n",
    "    editdistance.eval(a, b)"
   ]
  },
  {
   "cell_type": "code",
   "execution_count": 39,
   "id": "b64eabe4",
   "metadata": {},
   "outputs": [
    {
     "name": "stdout",
     "output_type": "stream",
     "text": [
      "Wall time: 480 ms\n"
     ]
    }
   ],
   "source": [
    "%%time\n",
    "for i in range(100000):\n",
    "    edit_distance(a, b, len(a), len(b))"
   ]
  },
  {
   "cell_type": "code",
   "execution_count": 17,
   "id": "167c1f6d",
   "metadata": {},
   "outputs": [
    {
     "name": "stdout",
     "output_type": "stream",
     "text": [
      "8\n",
      "Wall time: 24.9 ms\n"
     ]
    }
   ],
   "source": [
    "%%time\n",
    "for i in range(100000):\n",
    "    levenshtein(a, b)"
   ]
  },
  {
   "cell_type": "code",
   "execution_count": 98,
   "id": "3e9273d4",
   "metadata": {},
   "outputs": [
    {
     "data": {
      "text/plain": [
       "[1, 2, 4]"
      ]
     },
     "execution_count": 98,
     "metadata": {},
     "output_type": "execute_result"
    }
   ],
   "source": [
    "sorted([1, 4, 2])"
   ]
  },
  {
   "cell_type": "code",
   "execution_count": 329,
   "id": "16ee1cf1",
   "metadata": {},
   "outputs": [],
   "source": [
    "class spell_checker:\n",
    "    def __init__(self, model, word_counts, biword_counts, threeword_counts, fourword_counts, \n",
    "                 candidate_count_tresh=50, candidate_sim_tresh = 0.6, ngram_weights=[1, 1, 1], \n",
    "                 max_editdistance=2, close_extra_char_penalty = 0.1, far_extra_char_penalty = 0.001, \n",
    "                 missed_char_penalty = 0.01, close_replace_char_penalty = 0.1, far_replace_char_penalty = 0.001):\n",
    "        self.model = model\n",
    "        self.word_counts = word_counts\n",
    "        self.biword_counts = biword_counts\n",
    "        self.threeword_counts = threeword_counts\n",
    "        self.fourword_counts = fourword_counts\n",
    "        self.candidate_count_tresh = candidate_count_tresh\n",
    "        self.candidate_sim_tresh = candidate_sim_tresh\n",
    "        \n",
    "        self.ngram_weights = np.array(ngram_weights)\n",
    "        self.max_editdistance = max_editdistance\n",
    "        \n",
    "        self.close_extra_char_penalty = close_extra_char_penalty\n",
    "        self.far_extra_char_penalty = far_extra_char_penalty\n",
    "        self.missed_char_penalty = missed_char_penalty\n",
    "#         self.close_extra_char_penalty = 0.1\n",
    "        self.close_replace_char_penalty = close_replace_char_penalty\n",
    "        self.far_replace_char_penalty = far_replace_char_penalty\n",
    "        \n",
    "    \n",
    "    def cal_proposed_word_penalty(self, word, proposed_word, m=0, n=0):\n",
    "        distance = levenshtein(word, proposed_word)\n",
    "        \n",
    "        return 0.01**distance\n",
    "        \n",
    "        if m == len(word):\n",
    "            if n == len(proposed_word):\n",
    "                return 1\n",
    "            x = [self.close_extra_char_penalty if proposed_word[i] in  character_neighbors.get(proposed_word[i-1], []) else \n",
    "                 self.far_extra_char_penalty for i in range(n, len(proposed_word))]\n",
    "            return np.prod(x)\n",
    "\n",
    "        if n == len(proposed_word):\n",
    "#             if m == len(word):\n",
    "#                 return 1\n",
    "            return self.missed_char_penalty**(len(word)-m)\n",
    "\n",
    "        if word[m] == proposed_word[n]:\n",
    "            return self.cal_proposed_word_penalty(word, proposed_word, m+1, n+1)\n",
    "\n",
    "        neighbors = character_neighbors.get(proposed_word[n], [])\n",
    "\n",
    "        if (n >= 1 and proposed_word[n-1] in neighbors) or (n <= len(proposed_word)-2 and proposed_word[n+1] in neighbors):\n",
    "            addition_cost = self.close_extra_char_penalty\n",
    "        else:\n",
    "            addition_cost = self.far_extra_char_penalty\n",
    "\n",
    "        if word[m] in neighbors:\n",
    "            replace_cost = self.close_replace_char_penalty\n",
    "        else:\n",
    "            replace_cost = self.far_replace_char_penalty\n",
    "\n",
    "        return (max(addition_cost*self.cal_proposed_word_penalty(word, proposed_word, m,   n+1),     # delete letter\n",
    "                    self.missed_char_penalty*self.cal_proposed_word_penalty(word, proposed_word, m+1, n),       # add letter\n",
    "                    replace_cost* self.cal_proposed_word_penalty(word, proposed_word, m+1, n+1)))    # replace letter\n",
    "    \n",
    "\n",
    "    def cal_score(self, query_words, proposed_words):\n",
    "        S0_scores = []\n",
    "        S1_scores = []\n",
    "        S2_scores = []\n",
    "#         print(proposed_words)\n",
    "        result_penalties = [self.cal_proposed_word_penalty(query_words[i], proposed_words[i]) for i in range(len(query_words))]\n",
    "        for i in range(len(proposed_words)):\n",
    "            # OOV penalty?\n",
    "            counts = self.word_counts.get((self.model.wv.key_to_index.get(proposed_words[i], None), ), None)\n",
    "            if counts is None:\n",
    "                S0_scores.append(1/self.word_counts[\"all\"]*result_penalties[i])\n",
    "            else:\n",
    "                S0_scores.append(counts/self.word_counts[\"all\"]*result_penalties[i])\n",
    "            if i >= 1:\n",
    "                key = (self.model.wv.key_to_index.get(proposed_words[i-1], None), self.model.wv.key_to_index.get(proposed_words[i], None))\n",
    "                counts = self.biword_counts.get(key, 0)\n",
    "                if counts == 0:\n",
    "                    S1_scores.append(1/self.biword_counts[\"all\"]*result_penalties[i])\n",
    "                else:\n",
    "                    key = (self.model.wv.key_to_index.get(proposed_words[i-1], None), )\n",
    "                    S1_scores.append(counts/self.word_counts[key]*result_penalties[i])\n",
    "                    \n",
    "            if i >= 2:\n",
    "                key = (self.model.wv.key_to_index.get(proposed_words[i-2], None), self.model.wv.key_to_index.get(proposed_words[i-1], None), self.model.wv.key_to_index.get(proposed_words[i], None))\n",
    "                counts = self.threeword_counts.get(key, None)\n",
    "                if counts is None:\n",
    "                    S2_scores.append(1/self.threeword_counts[\"all\"]*result_penalties[i])\n",
    "                else:\n",
    "                    try:\n",
    "                        key2 = (self.model.wv.key_to_index.get(proposed_words[i-2], None), self.model.wv.key_to_index.get(proposed_words[i-1], None))\n",
    "                        S2_scores.append(counts/self.biword_counts[key2]*result_penalties[i])\n",
    "                    except Exception as e:\n",
    "                        print(key)\n",
    "                        print(key2)\n",
    "                        print(key in self.threeword_counts)\n",
    "                        print(key2 in self.biword_counts)\n",
    "                        raise Exception()\n",
    "\n",
    "\n",
    "    #     res = functools.reduce(lambda a,b: a*b, [1/5 if proposed_words[i]!=query_words[i] else 1 for i in range(len(query_words))])\n",
    "    #     return (weights[0]*sum(S0_scores)+weights[1]*sum(S1_scores)+weights[2]*sum(S2_scores))*res\n",
    "        \n",
    "        score = np.dot(self.ngram_weights, np.array([sum(x) for x in [S0_scores, S1_scores, S2_scores]])) / sum(self.ngram_weights)\n",
    "        return score\n",
    "#         return (self.ngram_weights[0]*sum(S0_scores)+self.ngram_weights[1]*sum(S1_scores)+self.ngram_weights[2]*sum(S2_scores))   \n",
    "    \n",
    "    def check_if_need_replacement(self, query_words, context):\n",
    "        res = []\n",
    "        for i in range(len(query_words)):\n",
    "#             if query_words[i] not in self.model.wv.key_to_index or self.model.wv.cosine_similarities(\n",
    "#                                self.model.wv[query_words[i]], context) < self.candidate_sim_tresh:\n",
    "            \n",
    "            if query_words[i] not in self.model.wv.key_to_index or self.model.wv.cosine_similarities(\n",
    "                               self.model.wv[query_words[i]], context) < self.candidate_sim_tresh:\n",
    "                res.append(True)\n",
    "                continue\n",
    "#             if i > 0 :\n",
    "#                 key = (self.model.wv.key_to_index.get(query_words[i-1], None), self.model.wv.key_to_index.get(query_words[i], None))\n",
    "#                 counts = self.biword_counts.get(key, 0)\n",
    "#                 if counts < 5:\n",
    "#                     res.append(True)\n",
    "#                     continue\n",
    "            res.append(False)\n",
    "        return res\n",
    "            \n",
    "    \n",
    "    def cal_word_candidates(self, query_words, save_time=False):\n",
    "        res = []\n",
    "        \n",
    "        context = np.average(np.array([self.model.wv[word] for word in query_words if word in self.model.wv.key_to_index]), axis=0)\n",
    "        context = np.expand_dims(context, axis=0)\n",
    "        word_need_replacement = self.check_if_need_replacement(query_words, context)\n",
    "        #         print(context.size)\n",
    "        for i in range(len(query_words)):\n",
    "#             print(query_words[i], )\n",
    "            if word_need_replacement[i]:\n",
    "                res.append([x for x in self.model.wv.key_to_index if \n",
    "                            levenshtein(x, query_words[i], self.max_editdistance) <= self.max_editdistance and\n",
    "                            self.word_counts.get((self.model.wv.key_to_index[x], ), 1 ) > self.candidate_count_tresh])\n",
    "            \n",
    "#                 res.append(sorted([x for x in self.model.wv.key_to_index if \n",
    "#                             levenshtein(x, query_words[i], self.max_editdistance) <= self.max_editdistance and\n",
    "#                             self.word_counts.get((self.model.wv.key_to_index[x], ), 1 ) > self.candidate_count_tresh], \n",
    "#                                  key=lambda x: self.model.wv.cosine_similarities(self.model.wv[x], context),  reverse=True)[:100])\n",
    "            else:\n",
    "                res.append([query_words[i]])\n",
    "            if save_time and np.prod([len(x) for x in res]) > 10000:\n",
    "                return None\n",
    "        return list(itertools.product(*res))\n",
    "    \n",
    "    def correct_answere(self, query, rank=-1, save_time=False):\n",
    "#         query_words = tokenizer.tokenize_words(normalizer.normalize(query))\n",
    "        query_words = tokenizer.tokenize_words(query)\n",
    "        \n",
    "        candidates = self.cal_word_candidates(query_words, save_time=save_time)\n",
    "        if candidates is None:\n",
    "            return \"\"\n",
    "        results_and_scores = [(candidate, self.cal_score(query_words, candidate)) for candidate in candidates]\n",
    "        results_and_scores = sorted(results_and_scores, key=lambda x: x[1], reverse=True)\n",
    "        if rank == -1:\n",
    "            return \" \".join(results_and_scores[0][0])\n",
    "        else:\n",
    "            return [(\" \".join(results_and_scores[i][0]), results_and_scores[i][1]) for i in range(rank)]\n",
    "            \n",
    "#         return results_and_scores[:10]"
   ]
  },
  {
   "cell_type": "code",
   "execution_count": 330,
   "id": "fba1b816",
   "metadata": {},
   "outputs": [],
   "source": [
    "SP = spell_checker(word2vec_model, word_counts, biword_counts, threeword_counts, None, \n",
    "                   candidate_count_tresh=100,  candidate_sim_tresh = 0.4, ngram_weights=[1, 10, 100],\n",
    "                   max_editdistance=3, close_extra_char_penalty=0.1, far_extra_char_penalty=0.001, \n",
    "                   missed_char_penalty=0.001, close_replace_char_penalty=0.1, far_replace_char_penalty=0.001)"
   ]
  },
  {
   "cell_type": "code",
   "execution_count": 335,
   "id": "306a1881",
   "metadata": {},
   "outputs": [
    {
     "name": "stdout",
     "output_type": "stream",
     "text": [
      "Wall time: 118 ms\n"
     ]
    },
    {
     "data": {
      "text/plain": [
       "[('باید توجه داشته باشیم', 0.2977210763607179),\n",
       " ('باید توجه نداشته باشیم', 0.06041236593443446),\n",
       " ('باید توجه مدظله باشیم', 0.0027719899527999694),\n",
       " ('باید توجه شاهد باشیم', 0.002769831031957271),\n",
       " ('باید توجه نگفته باشیم', 0.002254549435374231),\n",
       " ('باید توجه ندیده باشیم', 0.0019740491549214536),\n",
       " ('باید توجه چیده باشیم', 0.001964985765517681),\n",
       " ('باید توجه دیم باشیم', 0.0019561741369881654),\n",
       " ('باید توجه دوتا باشیم', 0.0019117749071733165),\n",
       " ('باید توجه آگاه باشیم', 0.001859055357996368)]"
      ]
     },
     "execution_count": 335,
     "metadata": {},
     "output_type": "execute_result"
    }
   ],
   "source": [
    "%%time\n",
    "SP.correct_answere(\"باید توجه دشته باشیم\", rank=10)"
   ]
  },
  {
   "cell_type": "code",
   "execution_count": 337,
   "id": "ae3d3703",
   "metadata": {},
   "outputs": [
    {
     "name": "stdout",
     "output_type": "stream",
     "text": [
      "Wall time: 222 ms\n"
     ]
    }
   ],
   "source": [
    "%%time\n",
    "word = \"ی ادامه داد غپو\"\n",
    "query_words = tokenizer.tokenize_words(word)\n",
    "a = SP.cal_word_candidates(query_words, save_time=True)\n",
    "# len(a)"
   ]
  },
  {
   "cell_type": "markdown",
   "id": "5bb92f6e",
   "metadata": {},
   "source": [
    "# Test model"
   ]
  },
  {
   "cell_type": "code",
   "execution_count": 306,
   "id": "070a51fb",
   "metadata": {},
   "outputs": [],
   "source": [
    "def test_spell_checker(spell_checker, df, save_time):\n",
    "    corrects = 0\n",
    "    empties = 1\n",
    "    answeres = []\n",
    "    for i in range(len(df)):\n",
    "        correct_word, misspelled_word = df.loc[i, [\"correct word\", \"misspelled word\"]]\n",
    "        try:\n",
    "#             print(correct_word, \"---\", misspelled_word)\n",
    "            corrected_word = spell_checker.correct_answere(misspelled_word, save_time=save_time)\n",
    "            if correct_word == \"\":\n",
    "                empties += 1\n",
    "        except Exception as e:\n",
    "            print(correct_word)\n",
    "            print(misspelled_word)\n",
    "            print(len(correct_word), len(misspelled_word))\n",
    "            raise Exception()\n",
    "        answeres.append(corrected_word)\n",
    "        if corrected_word == correct_word:\n",
    "            corrects += 1\n",
    "#         print(\"*****\")\n",
    "    return corrects/len(df), corrects/(len(df)-empties), answeres"
   ]
  },
  {
   "cell_type": "markdown",
   "id": "b6b82964",
   "metadata": {},
   "source": [
    "# test on bigrams"
   ]
  },
  {
   "cell_type": "code",
   "execution_count": 82,
   "id": "e1600b5a",
   "metadata": {},
   "outputs": [
    {
     "data": {
      "text/html": [
       "<div>\n",
       "<style scoped>\n",
       "    .dataframe tbody tr th:only-of-type {\n",
       "        vertical-align: middle;\n",
       "    }\n",
       "\n",
       "    .dataframe tbody tr th {\n",
       "        vertical-align: top;\n",
       "    }\n",
       "\n",
       "    .dataframe thead th {\n",
       "        text-align: right;\n",
       "    }\n",
       "</style>\n",
       "<table border=\"1\" class=\"dataframe\">\n",
       "  <thead>\n",
       "    <tr style=\"text-align: right;\">\n",
       "      <th></th>\n",
       "      <th>correct word</th>\n",
       "      <th>misspelled word</th>\n",
       "      <th>total edit distance</th>\n",
       "      <th>number of words with error</th>\n",
       "      <th>close change</th>\n",
       "      <th>changes</th>\n",
       "      <th>none word</th>\n",
       "    </tr>\n",
       "  </thead>\n",
       "  <tbody>\n",
       "    <tr>\n",
       "      <th>2657</th>\n",
       "      <td>همین رابطه</td>\n",
       "      <td>همین ظرابطنه</td>\n",
       "      <td>2.0</td>\n",
       "      <td>1.0</td>\n",
       "      <td>0.0</td>\n",
       "      <td>[[], [2, 2]]</td>\n",
       "      <td>True</td>\n",
       "    </tr>\n",
       "    <tr>\n",
       "      <th>1388</th>\n",
       "      <td>وی بیان</td>\n",
       "      <td>بیان</td>\n",
       "      <td>2.0</td>\n",
       "      <td>1.0</td>\n",
       "      <td>0.0</td>\n",
       "      <td>[[1, 1], []]</td>\n",
       "      <td>False</td>\n",
       "    </tr>\n",
       "    <tr>\n",
       "      <th>1608</th>\n",
       "      <td>فدراسیون فوتبال</td>\n",
       "      <td>فراسون فوتبال</td>\n",
       "      <td>2.0</td>\n",
       "      <td>1.0</td>\n",
       "      <td>0.0</td>\n",
       "      <td>[[1, 1], []]</td>\n",
       "      <td>True</td>\n",
       "    </tr>\n",
       "    <tr>\n",
       "      <th>2858</th>\n",
       "      <td>بشکه نفت</td>\n",
       "      <td>بشکه هفظت</td>\n",
       "      <td>2.0</td>\n",
       "      <td>1.0</td>\n",
       "      <td>0.0</td>\n",
       "      <td>[[], [0, 2]]</td>\n",
       "      <td>True</td>\n",
       "    </tr>\n",
       "    <tr>\n",
       "      <th>524</th>\n",
       "      <td>چه اندازه</td>\n",
       "      <td>چم اچدازه</td>\n",
       "      <td>2.0</td>\n",
       "      <td>2.0</td>\n",
       "      <td>0.0</td>\n",
       "      <td>[[0], [0]]</td>\n",
       "      <td>True</td>\n",
       "    </tr>\n",
       "    <tr>\n",
       "      <th>1775</th>\n",
       "      <td>اعلام کرده‌اند</td>\n",
       "      <td>اعلام کرذه‌اند</td>\n",
       "      <td>1.0</td>\n",
       "      <td>1.0</td>\n",
       "      <td>1.0</td>\n",
       "      <td>[[], [0]]</td>\n",
       "      <td>True</td>\n",
       "    </tr>\n",
       "    <tr>\n",
       "      <th>1427</th>\n",
       "      <td>کمیته ملی</td>\n",
       "      <td>کمیته کملی</td>\n",
       "      <td>1.0</td>\n",
       "      <td>1.0</td>\n",
       "      <td>1.0</td>\n",
       "      <td>[[], [2]]</td>\n",
       "      <td>True</td>\n",
       "    </tr>\n",
       "    <tr>\n",
       "      <th>1843</th>\n",
       "      <td>فراهم کنیم</td>\n",
       "      <td>فرهک گنیم</td>\n",
       "      <td>3.0</td>\n",
       "      <td>2.0</td>\n",
       "      <td>1.0</td>\n",
       "      <td>[[1, 0], [0]]</td>\n",
       "      <td>True</td>\n",
       "    </tr>\n",
       "    <tr>\n",
       "      <th>2162</th>\n",
       "      <td>قیمت کالاهای</td>\n",
       "      <td>قیمت کلالاهای</td>\n",
       "      <td>1.0</td>\n",
       "      <td>1.0</td>\n",
       "      <td>1.0</td>\n",
       "      <td>[[], [2]]</td>\n",
       "      <td>True</td>\n",
       "    </tr>\n",
       "    <tr>\n",
       "      <th>875</th>\n",
       "      <td>چگونه می‌توان</td>\n",
       "      <td>چگونه ب‌توات</td>\n",
       "      <td>3.0</td>\n",
       "      <td>1.0</td>\n",
       "      <td>1.0</td>\n",
       "      <td>[[], [1, 0, 0]]</td>\n",
       "      <td>True</td>\n",
       "    </tr>\n",
       "  </tbody>\n",
       "</table>\n",
       "</div>"
      ],
      "text/plain": [
       "         correct word misspelled word  total edit distance  \\\n",
       "2657       همین رابطه    همین ظرابطنه                  2.0   \n",
       "1388          وی بیان            بیان                  2.0   \n",
       "1608  فدراسیون فوتبال   فراسون فوتبال                  2.0   \n",
       "2858         بشکه نفت       بشکه هفظت                  2.0   \n",
       "524         چه اندازه       چم اچدازه                  2.0   \n",
       "1775   اعلام کرده‌اند  اعلام کرذه‌اند                  1.0   \n",
       "1427        کمیته ملی      کمیته کملی                  1.0   \n",
       "1843       فراهم کنیم       فرهک گنیم                  3.0   \n",
       "2162     قیمت کالاهای   قیمت کلالاهای                  1.0   \n",
       "875     چگونه می‌توان    چگونه ب‌توات                  3.0   \n",
       "\n",
       "      number of words with error  close change          changes  none word  \n",
       "2657                         1.0           0.0     [[], [2, 2]]       True  \n",
       "1388                         1.0           0.0     [[1, 1], []]      False  \n",
       "1608                         1.0           0.0     [[1, 1], []]       True  \n",
       "2858                         1.0           0.0     [[], [0, 2]]       True  \n",
       "524                          2.0           0.0       [[0], [0]]       True  \n",
       "1775                         1.0           1.0        [[], [0]]       True  \n",
       "1427                         1.0           1.0        [[], [2]]       True  \n",
       "1843                         2.0           1.0    [[1, 0], [0]]       True  \n",
       "2162                         1.0           1.0        [[], [2]]       True  \n",
       "875                          1.0           1.0  [[], [1, 0, 0]]       True  "
      ]
     },
     "execution_count": 82,
     "metadata": {},
     "output_type": "execute_result"
    }
   ],
   "source": [
    "homophonic_df=pd.read_csv(\"homophonics biword.csv\", index_col=[0])\n",
    "random_error_df=pd.read_csv(\"random bigram.csv\", index_col=[0])\n",
    "random_error_df.sample(n=10)"
   ]
  },
  {
   "cell_type": "code",
   "execution_count": 234,
   "id": "bb439b66",
   "metadata": {},
   "outputs": [
    {
     "name": "stdout",
     "output_type": "stream",
     "text": [
      "0.805\n",
      "Wall time: 46.7 s\n"
     ]
    }
   ],
   "source": [
    "%%time\n",
    "# sample_df = random_error_df.query(\"`total edit distance`==1\").sample(200).reset_index(drop=True)\n",
    "sample_df = random_error_df.query(\"`total edit distance`==1\").reset_index(drop=True)\n",
    "accuracy, answeres = test_spell_checker(SP, sample_df)\n",
    "print(accuracy)"
   ]
  },
  {
   "cell_type": "code",
   "execution_count": 233,
   "id": "5ba8ad76",
   "metadata": {},
   "outputs": [
    {
     "name": "stdout",
     "output_type": "stream",
     "text": [
      "0.7090501121914734\n",
      "Wall time: 1min 46s\n"
     ]
    }
   ],
   "source": [
    "%%time\n",
    "# sample_df = homophonic_df.query(\"`total edit distance`==1\").sample(200).reset_index(drop=True)\n",
    "sample_df = homophonic_df.query(\"`total edit distance`==1\").reset_index(drop=True)\n",
    "accuracy, answeres = test_spell_checker(SP, sample_df)\n",
    "print(accuracy)"
   ]
  },
  {
   "cell_type": "code",
   "execution_count": 235,
   "id": "b39b4a20",
   "metadata": {
    "scrolled": true
   },
   "outputs": [
    {
     "name": "stdout",
     "output_type": "stream",
     "text": [
      "0.5722639933166249\n",
      "Wall time: 2min 18s\n"
     ]
    }
   ],
   "source": [
    "%%time\n",
    "# sample_df = random_error_df.query(\"`total edit distance`==2\").sample(200).reset_index(drop=True)\n",
    "sample_df = random_error_df.query(\"`total edit distance`==2\").reset_index(drop=True)\n",
    "accuracy, answeres = test_spell_checker(SP, sample_df)\n",
    "print(accuracy)"
   ]
  },
  {
   "cell_type": "code",
   "execution_count": 238,
   "id": "129b5bbf",
   "metadata": {},
   "outputs": [
    {
     "name": "stdout",
     "output_type": "stream",
     "text": [
      "0.5516162669447341\n",
      "Wall time: 2min 56s\n"
     ]
    }
   ],
   "source": [
    "%%time\n",
    "# sample_df = homophonic_df.query(\"`total edit distance`==2\").sample(200).reset_index(drop=True)\n",
    "sample_df = homophonic_df.query(\"`total edit distance`==2\").reset_index(drop=True)\n",
    "accuracy, answeres = test_spell_checker(SP, sample_df)\n",
    "print(accuracy)"
   ]
  },
  {
   "cell_type": "code",
   "execution_count": 313,
   "id": "5e47b3c5",
   "metadata": {},
   "outputs": [],
   "source": [
    "%%time\n",
    "# sample_df = random_error_df.query(\"`total edit distance`==3\").sample(200).reset_index(drop=True)\n",
    "sample_df = random_error_df.query(\"`total edit distance`==3\").reset_index(drop=True)\n",
    "accuracy, answeres = test_spell_checker(SP, sample_df)\n",
    "print(accuracy)"
   ]
  },
  {
   "cell_type": "code",
   "execution_count": null,
   "id": "4f593dd1",
   "metadata": {},
   "outputs": [],
   "source": [
    "%%time\n",
    "# sample_df = homophonic_df.query(\"`total edit distance`==3\").sample(200).reset_index(drop=True)\n",
    "sample_df = homophonic_df.query(\"`total edit distance`==3\").reset_index(drop=True)\n",
    "accuracy, answeres = test_spell_checker(SP, sample_df)\n",
    "print(accuracy)"
   ]
  },
  {
   "cell_type": "markdown",
   "id": "9c766206",
   "metadata": {},
   "source": [
    "# test on threegrams"
   ]
  },
  {
   "cell_type": "code",
   "execution_count": 339,
   "id": "b3d3937d",
   "metadata": {},
   "outputs": [
    {
     "data": {
      "text/html": [
       "<div>\n",
       "<style scoped>\n",
       "    .dataframe tbody tr th:only-of-type {\n",
       "        vertical-align: middle;\n",
       "    }\n",
       "\n",
       "    .dataframe tbody tr th {\n",
       "        vertical-align: top;\n",
       "    }\n",
       "\n",
       "    .dataframe thead th {\n",
       "        text-align: right;\n",
       "    }\n",
       "</style>\n",
       "<table border=\"1\" class=\"dataframe\">\n",
       "  <thead>\n",
       "    <tr style=\"text-align: right;\">\n",
       "      <th></th>\n",
       "      <th>correct word</th>\n",
       "      <th>misspelled word</th>\n",
       "      <th>total edit distance</th>\n",
       "      <th>number of words with error</th>\n",
       "      <th>close change</th>\n",
       "      <th>changes</th>\n",
       "    </tr>\n",
       "  </thead>\n",
       "  <tbody>\n",
       "    <tr>\n",
       "      <th>1214</th>\n",
       "      <td>عضو هیات رییسه</td>\n",
       "      <td>عضو هیات یسسه</td>\n",
       "      <td>2.0</td>\n",
       "      <td>1.0</td>\n",
       "      <td>1.0</td>\n",
       "      <td>[[], [], [1, 0]]</td>\n",
       "    </tr>\n",
       "    <tr>\n",
       "      <th>2445</th>\n",
       "      <td>ستاد کل نیروهای</td>\n",
       "      <td>ستد کل آنیروهای</td>\n",
       "      <td>2.0</td>\n",
       "      <td>2.0</td>\n",
       "      <td>0.0</td>\n",
       "      <td>[[1], [], [2]]</td>\n",
       "    </tr>\n",
       "    <tr>\n",
       "      <th>33</th>\n",
       "      <td>احیای توافق هسته‌ای</td>\n",
       "      <td>حای توافق هسته‌ای</td>\n",
       "      <td>2.0</td>\n",
       "      <td>1.0</td>\n",
       "      <td>1.0</td>\n",
       "      <td>[[1, 1], [], []]</td>\n",
       "    </tr>\n",
       "    <tr>\n",
       "      <th>1801</th>\n",
       "      <td>چند روز بعد</td>\n",
       "      <td>چند رورز بعد</td>\n",
       "      <td>1.0</td>\n",
       "      <td>1.0</td>\n",
       "      <td>1.0</td>\n",
       "      <td>[[], [2], []]</td>\n",
       "    </tr>\n",
       "    <tr>\n",
       "      <th>2328</th>\n",
       "      <td>حفاظت محیط زیست</td>\n",
       "      <td>حفاظت نمیزط زیست</td>\n",
       "      <td>3.0</td>\n",
       "      <td>1.0</td>\n",
       "      <td>1.0</td>\n",
       "      <td>[[], [2, 1, 2], []]</td>\n",
       "    </tr>\n",
       "    <tr>\n",
       "      <th>1733</th>\n",
       "      <td>امام صادق ع</td>\n",
       "      <td>تاملم صادق ع</td>\n",
       "      <td>2.0</td>\n",
       "      <td>1.0</td>\n",
       "      <td>1.0</td>\n",
       "      <td>[[2, 0], [], []]</td>\n",
       "    </tr>\n",
       "    <tr>\n",
       "      <th>2453</th>\n",
       "      <td>ساخت هزار واحد</td>\n",
       "      <td>ساخت هزار نواد</td>\n",
       "      <td>2.0</td>\n",
       "      <td>1.0</td>\n",
       "      <td>0.0</td>\n",
       "      <td>[[], [], [2, 1]]</td>\n",
       "    </tr>\n",
       "    <tr>\n",
       "      <th>2553</th>\n",
       "      <td>باید مشخص شود</td>\n",
       "      <td>باید مشخص وذد</td>\n",
       "      <td>2.0</td>\n",
       "      <td>1.0</td>\n",
       "      <td>1.0</td>\n",
       "      <td>[[], [], [1, 2]]</td>\n",
       "    </tr>\n",
       "    <tr>\n",
       "      <th>966</th>\n",
       "      <td>سال کل کشور</td>\n",
       "      <td>شلل کل گکشور</td>\n",
       "      <td>3.0</td>\n",
       "      <td>2.0</td>\n",
       "      <td>1.0</td>\n",
       "      <td>[[0, 0], [], [2]]</td>\n",
       "    </tr>\n",
       "    <tr>\n",
       "      <th>1313</th>\n",
       "      <td>جلسه ستاد ملی</td>\n",
       "      <td>جس ستاد ملی</td>\n",
       "      <td>2.0</td>\n",
       "      <td>1.0</td>\n",
       "      <td>0.0</td>\n",
       "      <td>[[1, 1], [], []]</td>\n",
       "    </tr>\n",
       "  </tbody>\n",
       "</table>\n",
       "</div>"
      ],
      "text/plain": [
       "             correct word    misspelled word  total edit distance  \\\n",
       "1214       عضو هیات رییسه      عضو هیات یسسه                  2.0   \n",
       "2445      ستاد کل نیروهای    ستد کل آنیروهای                  2.0   \n",
       "33    احیای توافق هسته‌ای  حای توافق هسته‌ای                  2.0   \n",
       "1801          چند روز بعد       چند رورز بعد                  1.0   \n",
       "2328      حفاظت محیط زیست   حفاظت نمیزط زیست                  3.0   \n",
       "1733          امام صادق ع       تاملم صادق ع                  2.0   \n",
       "2453       ساخت هزار واحد     ساخت هزار نواد                  2.0   \n",
       "2553        باید مشخص شود      باید مشخص وذد                  2.0   \n",
       "966           سال کل کشور       شلل کل گکشور                  3.0   \n",
       "1313        جلسه ستاد ملی        جس ستاد ملی                  2.0   \n",
       "\n",
       "      number of words with error  close change              changes  \n",
       "1214                         1.0           1.0     [[], [], [1, 0]]  \n",
       "2445                         2.0           0.0       [[1], [], [2]]  \n",
       "33                           1.0           1.0     [[1, 1], [], []]  \n",
       "1801                         1.0           1.0        [[], [2], []]  \n",
       "2328                         1.0           1.0  [[], [2, 1, 2], []]  \n",
       "1733                         1.0           1.0     [[2, 0], [], []]  \n",
       "2453                         1.0           0.0     [[], [], [2, 1]]  \n",
       "2553                         1.0           1.0     [[], [], [1, 2]]  \n",
       "966                          2.0           1.0    [[0, 0], [], [2]]  \n",
       "1313                         1.0           0.0     [[1, 1], [], []]  "
      ]
     },
     "execution_count": 339,
     "metadata": {},
     "output_type": "execute_result"
    }
   ],
   "source": [
    "# homophonic_df=pd.read_csv(\"homophonics threeword.csv\", index_col=[0])\n",
    "random_error_df=pd.read_csv(\"random threegram.csv\", index_col=[0])\n",
    "random_error_df.sample(n=10)"
   ]
  },
  {
   "cell_type": "code",
   "execution_count": 340,
   "id": "c2d7fb39",
   "metadata": {},
   "outputs": [
    {
     "name": "stdout",
     "output_type": "stream",
     "text": [
      "0.664440734557596 0.6666666666666666\n",
      "Wall time: 56.5 s\n"
     ]
    }
   ],
   "source": [
    "%%time\n",
    "sample_df = random_error_df.query(\"`total edit distance`==1\").reset_index(drop=True)\n",
    "accuracy, non_empty_accuracy, answeres = test_spell_checker(SP, sample_df, save_time=True)\n",
    "print(accuracy, non_empty_accuracy)"
   ]
  },
  {
   "cell_type": "code",
   "execution_count": null,
   "id": "4bfb3c15",
   "metadata": {},
   "outputs": [],
   "source": []
  },
  {
   "cell_type": "code",
   "execution_count": 341,
   "id": "22bd3491",
   "metadata": {},
   "outputs": [
    {
     "name": "stdout",
     "output_type": "stream",
     "text": [
      "0.39548494983277593 0.6158854166666666\n",
      "Wall time: 2min 32s\n"
     ]
    }
   ],
   "source": [
    "%%time\n",
    "sample_df = random_error_df.query(\"`total edit distance`==2\").reset_index(drop=True)\n",
    "accuracy, non_empty_accuracy, answeres = test_spell_checker(SP, sample_df, save_time=True)\n",
    "print(accuracy, non_empty_accuracy)"
   ]
  },
  {
   "cell_type": "code",
   "execution_count": null,
   "id": "8f15ee22",
   "metadata": {},
   "outputs": [],
   "source": []
  },
  {
   "cell_type": "code",
   "execution_count": 342,
   "id": "d4bcc4ee",
   "metadata": {},
   "outputs": [
    {
     "name": "stdout",
     "output_type": "stream",
     "text": [
      "0.41216216216216217 0.6272493573264781\n",
      "Wall time: 2min 38s\n"
     ]
    }
   ],
   "source": [
    "%%time\n",
    "sample_df = random_error_df.query(\"`total edit distance`==3\").reset_index(drop=True)\n",
    "accuracy, non_empty_accuracy, answeres = test_spell_checker(SP, sample_df, save_time=True)\n",
    "print(accuracy, non_empty_accuracy)"
   ]
  },
  {
   "cell_type": "code",
   "execution_count": null,
   "id": "65371610",
   "metadata": {},
   "outputs": [],
   "source": []
  },
  {
   "cell_type": "markdown",
   "id": "cf189b29",
   "metadata": {},
   "source": [
    "# test on fourgrams"
   ]
  },
  {
   "cell_type": "code",
   "execution_count": 82,
   "id": "af09d4c8",
   "metadata": {},
   "outputs": [
    {
     "data": {
      "text/html": [
       "<div>\n",
       "<style scoped>\n",
       "    .dataframe tbody tr th:only-of-type {\n",
       "        vertical-align: middle;\n",
       "    }\n",
       "\n",
       "    .dataframe tbody tr th {\n",
       "        vertical-align: top;\n",
       "    }\n",
       "\n",
       "    .dataframe thead th {\n",
       "        text-align: right;\n",
       "    }\n",
       "</style>\n",
       "<table border=\"1\" class=\"dataframe\">\n",
       "  <thead>\n",
       "    <tr style=\"text-align: right;\">\n",
       "      <th></th>\n",
       "      <th>correct word</th>\n",
       "      <th>misspelled word</th>\n",
       "      <th>total edit distance</th>\n",
       "      <th>number of words with error</th>\n",
       "      <th>close change</th>\n",
       "      <th>changes</th>\n",
       "    </tr>\n",
       "  </thead>\n",
       "  <tbody>\n",
       "    <tr>\n",
       "      <th>91</th>\n",
       "      <td>تیم ملی فوتبال کشورمان</td>\n",
       "      <td>تیم ملی وتبایل کشورمان</td>\n",
       "      <td>2.0</td>\n",
       "      <td>1.0</td>\n",
       "      <td>0.0</td>\n",
       "      <td>[[], [], [1, 2], []]</td>\n",
       "    </tr>\n",
       "    <tr>\n",
       "      <th>732</th>\n",
       "      <td>قرارگاه عملیاتی ستاد ملی</td>\n",
       "      <td>قرارگاه عملیاتی گدد ملی</td>\n",
       "      <td>3.0</td>\n",
       "      <td>1.0</td>\n",
       "      <td>0.0</td>\n",
       "      <td>[[], [], [0, 1, 0], []]</td>\n",
       "    </tr>\n",
       "    <tr>\n",
       "      <th>1103</th>\n",
       "      <td>داده‌های وبگاه ورلد امترز</td>\n",
       "      <td>داده‌های وبگاه وذرد امرز</td>\n",
       "      <td>3.0</td>\n",
       "      <td>2.0</td>\n",
       "      <td>1.0</td>\n",
       "      <td>[[], [], [2, 1], [1]]</td>\n",
       "    </tr>\n",
       "    <tr>\n",
       "      <th>252</th>\n",
       "      <td>افزایش قیمت کالاهای اساسی</td>\n",
       "      <td>افزایش قیمت کابلاهاس اساسی</td>\n",
       "      <td>2.0</td>\n",
       "      <td>1.0</td>\n",
       "      <td>1.0</td>\n",
       "      <td>[[], [], [2, 0], []]</td>\n",
       "    </tr>\n",
       "    <tr>\n",
       "      <th>1528</th>\n",
       "      <td>دز سوم واکسن کرونا</td>\n",
       "      <td>ز سوم اکسو کرونا</td>\n",
       "      <td>3.0</td>\n",
       "      <td>2.0</td>\n",
       "      <td>0.0</td>\n",
       "      <td>[[1], [], [1, 0], []]</td>\n",
       "    </tr>\n",
       "    <tr>\n",
       "      <th>1299</th>\n",
       "      <td>امام ج ص پیام</td>\n",
       "      <td>امام حج ث پیام</td>\n",
       "      <td>2.0</td>\n",
       "      <td>2.0</td>\n",
       "      <td>1.0</td>\n",
       "      <td>[[], [2], [0], []]</td>\n",
       "    </tr>\n",
       "    <tr>\n",
       "      <th>1340</th>\n",
       "      <td>سخنگوی وزارت امور خارجه</td>\n",
       "      <td>سخنگوی جزاضت امور خرجه</td>\n",
       "      <td>3.0</td>\n",
       "      <td>2.0</td>\n",
       "      <td>0.0</td>\n",
       "      <td>[[], [0, 0], [], [1]]</td>\n",
       "    </tr>\n",
       "    <tr>\n",
       "      <th>667</th>\n",
       "      <td>گزارش پایگاه اطلاع‌رسانی وزارت</td>\n",
       "      <td>گزارش پایگاه ازلاع‌رسانی وزارت</td>\n",
       "      <td>1.0</td>\n",
       "      <td>1.0</td>\n",
       "      <td>1.0</td>\n",
       "      <td>[[], [], [0], []]</td>\n",
       "    </tr>\n",
       "    <tr>\n",
       "      <th>2158</th>\n",
       "      <td>مدیرعامل شرکت متروی تهران</td>\n",
       "      <td>مدیرعامل شخرشکت متروی تهران</td>\n",
       "      <td>2.0</td>\n",
       "      <td>1.0</td>\n",
       "      <td>0.0</td>\n",
       "      <td>[[], [2, 2], [], []]</td>\n",
       "    </tr>\n",
       "    <tr>\n",
       "      <th>2193</th>\n",
       "      <td>زمان روی کار آمدن</td>\n",
       "      <td>زمان روی گکت آمدن</td>\n",
       "      <td>3.0</td>\n",
       "      <td>1.0</td>\n",
       "      <td>1.0</td>\n",
       "      <td>[[], [], [2, 0, 1], []]</td>\n",
       "    </tr>\n",
       "  </tbody>\n",
       "</table>\n",
       "</div>"
      ],
      "text/plain": [
       "                        correct word                 misspelled word  \\\n",
       "91            تیم ملی فوتبال کشورمان          تیم ملی وتبایل کشورمان   \n",
       "732         قرارگاه عملیاتی ستاد ملی         قرارگاه عملیاتی گدد ملی   \n",
       "1103       داده‌های وبگاه ورلد امترز        داده‌های وبگاه وذرد امرز   \n",
       "252        افزایش قیمت کالاهای اساسی      افزایش قیمت کابلاهاس اساسی   \n",
       "1528              دز سوم واکسن کرونا                ز سوم اکسو کرونا   \n",
       "1299                   امام ج ص پیام                  امام حج ث پیام   \n",
       "1340         سخنگوی وزارت امور خارجه          سخنگوی جزاضت امور خرجه   \n",
       "667   گزارش پایگاه اطلاع‌رسانی وزارت  گزارش پایگاه ازلاع‌رسانی وزارت   \n",
       "2158       مدیرعامل شرکت متروی تهران     مدیرعامل شخرشکت متروی تهران   \n",
       "2193               زمان روی کار آمدن               زمان روی گکت آمدن   \n",
       "\n",
       "      total edit distance  number of words with error  close change  \\\n",
       "91                    2.0                         1.0           0.0   \n",
       "732                   3.0                         1.0           0.0   \n",
       "1103                  3.0                         2.0           1.0   \n",
       "252                   2.0                         1.0           1.0   \n",
       "1528                  3.0                         2.0           0.0   \n",
       "1299                  2.0                         2.0           1.0   \n",
       "1340                  3.0                         2.0           0.0   \n",
       "667                   1.0                         1.0           1.0   \n",
       "2158                  2.0                         1.0           0.0   \n",
       "2193                  3.0                         1.0           1.0   \n",
       "\n",
       "                      changes  \n",
       "91       [[], [], [1, 2], []]  \n",
       "732   [[], [], [0, 1, 0], []]  \n",
       "1103    [[], [], [2, 1], [1]]  \n",
       "252      [[], [], [2, 0], []]  \n",
       "1528    [[1], [], [1, 0], []]  \n",
       "1299       [[], [2], [0], []]  \n",
       "1340    [[], [0, 0], [], [1]]  \n",
       "667         [[], [], [0], []]  \n",
       "2158     [[], [2, 2], [], []]  \n",
       "2193  [[], [], [2, 0, 1], []]  "
      ]
     },
     "execution_count": 82,
     "metadata": {},
     "output_type": "execute_result"
    }
   ],
   "source": [
    "# homophonic_df=pd.read_csv(\"homophonics threeword.csv\", index_col=[0])\n",
    "random_error_df=pd.read_csv(\"random fourgram.csv\", index_col=[0])\n",
    "random_error_df.sample(n=10)"
   ]
  },
  {
   "cell_type": "code",
   "execution_count": 322,
   "id": "3de49c3e",
   "metadata": {},
   "outputs": [],
   "source": [
    "def test_spell_checker(spell_checker, df, save_time):\n",
    "    corrects = 0\n",
    "    empties = 1\n",
    "    answeres = []\n",
    "    for i in range(len(df)):\n",
    "        correct_word, misspelled_word = df.loc[i, [\"correct word\", \"misspelled word\"]]\n",
    "        try:\n",
    "#             print(correct_word, \"---\", misspelled_word)\n",
    "            corrected_word = spell_checker.correct_answere(misspelled_word, save_time=save_time)\n",
    "            if corrected_word == \"\":\n",
    "                empties += 1\n",
    "        except Exception as e:\n",
    "            print(correct_word)\n",
    "            print(misspelled_word)\n",
    "            print(len(correct_word), len(misspelled_word))\n",
    "            raise Exception()\n",
    "        answeres.append(corrected_word)\n",
    "        if corrected_word == correct_word:\n",
    "            corrects += 1\n",
    "#         print(\"*****\")\n",
    "    return corrects/len(df), corrects/(len(df)-empties), answeres"
   ]
  },
  {
   "cell_type": "code",
   "execution_count": 323,
   "id": "13814da7",
   "metadata": {
    "scrolled": true
   },
   "outputs": [
    {
     "name": "stdout",
     "output_type": "stream",
     "text": [
      "0.7161936560934892 0.7295918367346939\n",
      "Wall time: 1min\n"
     ]
    }
   ],
   "source": [
    "%%time\n",
    "sample_df = random_error_df.query(\"`total edit distance`==1\").reset_index(drop=True)\n",
    "accuracy, non_empty_accuracy, answeres = test_spell_checker(SP, sample_df, save_time=True)\n",
    "print(accuracy, non_empty_accuracy)"
   ]
  },
  {
   "cell_type": "code",
   "execution_count": null,
   "id": "7b6ac0e0",
   "metadata": {},
   "outputs": [],
   "source": []
  },
  {
   "cell_type": "code",
   "execution_count": 324,
   "id": "eb6a7c2e",
   "metadata": {},
   "outputs": [
    {
     "name": "stdout",
     "output_type": "stream",
     "text": [
      "0.4332220367278798 0.6883289124668435\n",
      "Wall time: 2min 55s\n"
     ]
    }
   ],
   "source": [
    "%%time\n",
    "sample_df = random_error_df.query(\"`total edit distance`==2\").reset_index(drop=True)\n",
    "accuracy, non_empty_accuracy, answeres = test_spell_checker(SP, sample_df, save_time=True)\n",
    "print(accuracy, non_empty_accuracy)"
   ]
  },
  {
   "cell_type": "code",
   "execution_count": null,
   "id": "cb1542ce",
   "metadata": {},
   "outputs": [],
   "source": []
  },
  {
   "cell_type": "code",
   "execution_count": 338,
   "id": "ea8f24a1",
   "metadata": {},
   "outputs": [
    {
     "name": "stdout",
     "output_type": "stream",
     "text": [
      "0.4494097807757167 0.7078353253652059\n",
      "Wall time: 2min 46s\n"
     ]
    }
   ],
   "source": [
    "%%time\n",
    "sample_df = random_error_df.query(\"`total edit distance`==3\").reset_index(drop=True)\n",
    "accuracy, non_empty_accuracy, answeres = test_spell_checker(SP, sample_df, save_time=True)\n",
    "print(accuracy, non_empty_accuracy)"
   ]
  },
  {
   "cell_type": "code",
   "execution_count": null,
   "id": "84042690",
   "metadata": {},
   "outputs": [],
   "source": []
  },
  {
   "cell_type": "markdown",
   "id": "abf7ddbc",
   "metadata": {},
   "source": [
    "# statistics"
   ]
  },
  {
   "cell_type": "code",
   "execution_count": 124,
   "id": "faabfad2",
   "metadata": {},
   "outputs": [
    {
     "data": {
      "text/plain": [
       "(347679, 300)"
      ]
     },
     "execution_count": 124,
     "metadata": {},
     "output_type": "execute_result"
    }
   ],
   "source": [
    "word2vec_model.wv.vectors.shape"
   ]
  },
  {
   "cell_type": "code",
   "execution_count": 134,
   "id": "3760664a",
   "metadata": {},
   "outputs": [
    {
     "data": {
      "image/png": "[encoded data removed]",
      "text/plain": [
       "<Figure size 432x288 with 1 Axes>"
      ]
     },
     "metadata": {
      "needs_background": "light"
     },
     "output_type": "display_data"
    }
   ],
   "source": [
    "sns.histplot(x=word2vec_model.wv.cosine_similarities(word2vec_model.wv[\"سازمان\"], word2vec_model.wv.vectors), bins=100);"
   ]
  },
  {
   "cell_type": "code",
   "execution_count": 149,
   "id": "15fe2867",
   "metadata": {},
   "outputs": [
    {
     "data": {
      "image/png": "[encoded data removed]",
      "text/plain": [
       "<Figure size 432x288 with 1 Axes>"
      ]
     },
     "metadata": {
      "needs_background": "light"
     },
     "output_type": "display_data"
    }
   ],
   "source": [
    "sns.histplot(x=word2vec_model.wv.cosine_similarities(word2vec_model.wv[\"غذا\"], word2vec_model.wv.vectors), bins=100);"
   ]
  },
  {
   "cell_type": "code",
   "execution_count": 148,
   "id": "5d08c7bc",
   "metadata": {},
   "outputs": [
    {
     "data": {
      "image/png": "[encoded data removed]",
      "text/plain": [
       "<Figure size 432x288 with 1 Axes>"
      ]
     },
     "metadata": {
      "needs_background": "light"
     },
     "output_type": "display_data"
    }
   ],
   "source": [
    "sns.histplot(x=word2vec_model.wv.distances(\"غذا\", other_words=([key for key in word2vec_model.wv.key_to_index])), bins=100);"
   ]
  },
  {
   "cell_type": "code",
   "execution_count": 183,
   "id": "16fda510",
   "metadata": {},
   "outputs": [
    {
     "data": {
      "text/plain": [
       "20137"
      ]
     },
     "execution_count": 183,
     "metadata": {},
     "output_type": "execute_result"
    }
   ],
   "source": [
    "sum(word2vec_model.wv.distances(\"غذا\", other_words=([key for key in word2vec_model.wv.key_to_index])) < 0.9)"
   ]
  },
  {
   "cell_type": "code",
   "execution_count": 187,
   "id": "08050018",
   "metadata": {},
   "outputs": [
    {
     "name": "stdout",
     "output_type": "stream",
     "text": [
      "ملل\n",
      "دارویی\n",
      "شیر\n",
      "خوراک\n",
      "چای\n",
      "تغذیه\n",
      "خوراکی\n",
      "داروها\n",
      "سرم\n",
      "گرسنگی\n",
      "بسته‌بندی\n",
      "مایحتاج\n",
      "افطار\n",
      "دستکش\n",
      "خرما\n",
      "غذاهای\n",
      "آشپزخانه\n",
      "پلاستیک\n",
      "شوینده\n",
      "آجیل\n",
      "ضدعفونی‌کننده\n",
      "لقمه\n",
      "شستن\n",
      "شربت\n",
      "شیرخشک\n",
      "میوه‌ها\n",
      "سبزیجات\n",
      "پودر\n",
      "پز\n",
      "پلاسما\n",
      "پوشک\n",
      "برنامه‌وبودجه\n",
      "محلول\n",
      "خوابیدن\n",
      "کنسرو\n",
      "نوشابه\n",
      "دستشویی\n",
      "آمپول\n",
      "بستنی\n",
      "صابون\n",
      "نانی\n",
      "سحری\n",
      "شکلات\n",
      "آبگوشت\n",
      "مکمل‌های\n",
      "قرص‌های\n",
      "نوشیدنی‌های\n",
      "خوشمزه\n",
      "طعام\n",
      "داروست\n",
      "تنقلات\n",
      "جیره\n",
      "ساندویچ\n",
      "ویتامین‌ها\n",
      "بشقاب\n",
      "سالاد\n",
      "پخت‌وپز\n",
      "دورریز\n",
      "چیپس\n",
      "غذا‌های\n",
      "نظام‌پزشکی\n",
      "سوپ\n",
      "ملل‌بود\n",
      "نوشیدنی‌ها\n",
      "دمنوش\n",
      "لذیذ\n",
      "دسفرال\n",
      "می‌پزند\n",
      "خوراندن\n",
      "دارو‌بود\n",
      "غذاودارو\n",
      "بپزد\n",
      "می‌پزد\n",
      "مقوی\n",
      "چاشت\n",
      "میان‌وعده\n",
      "مللی\n",
      "بپزند\n",
      "ملل‌متحد\n",
      "پریمیدون\n",
      "نمی‌شویند\n",
      "آدوکانوماب\n",
      "سیا‌بودم\n",
      "بخورین\n",
      "لکت\n",
      "ویسواگوارو\n",
      "سه‌ربع\n",
      "نصرکشور\n",
      "اوقاف‌بود\n",
      "آب‌و‌فاضلاب\n",
      "دیگ‌دیگ\n",
      "میراث‌فرهنگی‌بودید\n",
      "محلی‌ترین\n",
      "تهرانسره\n",
      "امور‌مالیاتی\n",
      "مریضامون\n",
      "رسمی‌مقامات\n",
      "فرآیند‌‌های\n",
      "تجویز‌شده‌اما\n"
     ]
    }
   ],
   "source": [
    "for key in word2vec_model.wv.key_to_index:\n",
    "    sim = word2vec_model.wv.cosine_similarities(word2vec_model.wv[\"غذا\"], [word2vec_model.wv[key]])\n",
    "    if sim > 0.35 and sim < 0.4:\n",
    "        print(key)"
   ]
  }
 ],
 "metadata": {
  "kernelspec": {
   "display_name": "Python 3 (ipykernel)",
   "language": "python",
   "name": "python3"
  },
  "language_info": {
   "codemirror_mode": {
    "name": "ipython",
    "version": 3
   },
   "file_extension": ".py",
   "mimetype": "text/x-python",
   "name": "python",
   "nbconvert_exporter": "python",
   "pygments_lexer": "ipython3",
   "version": "3.9.7"
  }
 },
 "nbformat": 4,
 "nbformat_minor": 5
}
